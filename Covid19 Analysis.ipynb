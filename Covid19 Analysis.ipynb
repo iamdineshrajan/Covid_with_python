{
 "cells": [
  {
   "cell_type": "markdown",
   "metadata": {},
   "source": [
    "##                                                                                                                           DINESH RAJAN R A\n",
    "###                                                                                                                                                            20CSEG06"
   ]
  },
  {
   "cell_type": "markdown",
   "metadata": {},
   "source": [
    "## COVID 19 ANALYSIS FOR INDIA\n",
    "\n",
    "### Importing the Libraries"
   ]
  },
  {
   "cell_type": "code",
   "execution_count": 1,
   "metadata": {},
   "outputs": [],
   "source": [
    "import numpy as np\n",
    "import pandas as pd\n",
    "import matplotlib.pyplot as plt\n",
    "import seaborn as sns"
   ]
  },
  {
   "cell_type": "markdown",
   "metadata": {},
   "source": [
    "### Loading the dataset which we got from \n",
    "https://api.covid19india.org/"
   ]
  },
  {
   "cell_type": "code",
   "execution_count": 2,
   "metadata": {},
   "outputs": [
    {
     "data": {
      "text/html": [
       "<div>\n",
       "<style scoped>\n",
       "    .dataframe tbody tr th:only-of-type {\n",
       "        vertical-align: middle;\n",
       "    }\n",
       "\n",
       "    .dataframe tbody tr th {\n",
       "        vertical-align: top;\n",
       "    }\n",
       "\n",
       "    .dataframe thead th {\n",
       "        text-align: right;\n",
       "    }\n",
       "</style>\n",
       "<table border=\"1\" class=\"dataframe\">\n",
       "  <thead>\n",
       "    <tr style=\"text-align: right;\">\n",
       "      <th></th>\n",
       "      <th>Date</th>\n",
       "      <th>Time</th>\n",
       "      <th>State/UnionTerritory</th>\n",
       "      <th>ConfirmedIndianNational</th>\n",
       "      <th>ConfirmedForeignNational</th>\n",
       "      <th>Cured</th>\n",
       "      <th>Deaths</th>\n",
       "      <th>Confirmed</th>\n",
       "    </tr>\n",
       "    <tr>\n",
       "      <th>Sno</th>\n",
       "      <th></th>\n",
       "      <th></th>\n",
       "      <th></th>\n",
       "      <th></th>\n",
       "      <th></th>\n",
       "      <th></th>\n",
       "      <th></th>\n",
       "      <th></th>\n",
       "    </tr>\n",
       "  </thead>\n",
       "  <tbody>\n",
       "    <tr>\n",
       "      <th>1</th>\n",
       "      <td>2020-01-30</td>\n",
       "      <td>6:00 PM</td>\n",
       "      <td>Kerala</td>\n",
       "      <td>1</td>\n",
       "      <td>0</td>\n",
       "      <td>0</td>\n",
       "      <td>0</td>\n",
       "      <td>1</td>\n",
       "    </tr>\n",
       "    <tr>\n",
       "      <th>2</th>\n",
       "      <td>2020-01-31</td>\n",
       "      <td>6:00 PM</td>\n",
       "      <td>Kerala</td>\n",
       "      <td>1</td>\n",
       "      <td>0</td>\n",
       "      <td>0</td>\n",
       "      <td>0</td>\n",
       "      <td>1</td>\n",
       "    </tr>\n",
       "  </tbody>\n",
       "</table>\n",
       "</div>"
      ],
      "text/plain": [
       "           Date     Time State/UnionTerritory ConfirmedIndianNational  \\\n",
       "Sno                                                                     \n",
       "1    2020-01-30  6:00 PM               Kerala                       1   \n",
       "2    2020-01-31  6:00 PM               Kerala                       1   \n",
       "\n",
       "    ConfirmedForeignNational  Cured  Deaths  Confirmed  \n",
       "Sno                                                     \n",
       "1                          0      0       0          1  \n",
       "2                          0      0       0          1  "
      ]
     },
     "execution_count": 2,
     "metadata": {},
     "output_type": "execute_result"
    }
   ],
   "source": [
    "df=pd.read_csv(\"C:/Users/DELL/Downloads/covid_19_india.csv\",index_col=0)\n",
    "df.head(2)"
   ]
  },
  {
   "cell_type": "markdown",
   "metadata": {},
   "source": [
    "### Data Cleaning"
   ]
  },
  {
   "cell_type": "markdown",
   "metadata": {},
   "source": [
    "Now, we are going to change the datatypes, removing null values, dropping the variables which we do not need for the analysis."
   ]
  },
  {
   "cell_type": "code",
   "execution_count": null,
   "metadata": {},
   "outputs": [],
   "source": [
    "df.dtypes"
   ]
  },
  {
   "cell_type": "markdown",
   "metadata": {},
   "source": [
    "Here we have date variable which is of object data type. Now, we are going to convert this into date datatype."
   ]
  },
  {
   "cell_type": "code",
   "execution_count": 3,
   "metadata": {},
   "outputs": [],
   "source": [
    "df[\"Date\"]=pd.to_datetime(df[\"Date\"])\n",
    "df=df.set_index(\"Date\")"
   ]
  },
  {
   "cell_type": "markdown",
   "metadata": {},
   "source": [
    "We have changed the datatype of the variable DATE and to know about the null or missing values we can use the info() function."
   ]
  },
  {
   "cell_type": "code",
   "execution_count": null,
   "metadata": {},
   "outputs": [],
   "source": [
    "df.info()"
   ]
  },
  {
   "cell_type": "code",
   "execution_count": 4,
   "metadata": {},
   "outputs": [
    {
     "data": {
      "text/html": [
       "<div>\n",
       "<style scoped>\n",
       "    .dataframe tbody tr th:only-of-type {\n",
       "        vertical-align: middle;\n",
       "    }\n",
       "\n",
       "    .dataframe tbody tr th {\n",
       "        vertical-align: top;\n",
       "    }\n",
       "\n",
       "    .dataframe thead th {\n",
       "        text-align: right;\n",
       "    }\n",
       "</style>\n",
       "<table border=\"1\" class=\"dataframe\">\n",
       "  <thead>\n",
       "    <tr style=\"text-align: right;\">\n",
       "      <th></th>\n",
       "      <th>Time</th>\n",
       "      <th>State/UnionTerritory</th>\n",
       "      <th>ConfirmedIndianNational</th>\n",
       "      <th>ConfirmedForeignNational</th>\n",
       "      <th>Cured</th>\n",
       "      <th>Deaths</th>\n",
       "      <th>Confirmed</th>\n",
       "      <th>Year</th>\n",
       "      <th>Month</th>\n",
       "      <th>WeekDays</th>\n",
       "    </tr>\n",
       "    <tr>\n",
       "      <th>Date</th>\n",
       "      <th></th>\n",
       "      <th></th>\n",
       "      <th></th>\n",
       "      <th></th>\n",
       "      <th></th>\n",
       "      <th></th>\n",
       "      <th></th>\n",
       "      <th></th>\n",
       "      <th></th>\n",
       "      <th></th>\n",
       "    </tr>\n",
       "  </thead>\n",
       "  <tbody>\n",
       "    <tr>\n",
       "      <th>2021-04-23</th>\n",
       "      <td>8:00 AM</td>\n",
       "      <td>Uttar Pradesh</td>\n",
       "      <td>-</td>\n",
       "      <td>-</td>\n",
       "      <td>706414</td>\n",
       "      <td>10541</td>\n",
       "      <td>976765</td>\n",
       "      <td>2021</td>\n",
       "      <td>4</td>\n",
       "      <td>4</td>\n",
       "    </tr>\n",
       "    <tr>\n",
       "      <th>2021-04-23</th>\n",
       "      <td>8:00 AM</td>\n",
       "      <td>West Bengal</td>\n",
       "      <td>-</td>\n",
       "      <td>-</td>\n",
       "      <td>621340</td>\n",
       "      <td>10766</td>\n",
       "      <td>700904</td>\n",
       "      <td>2021</td>\n",
       "      <td>4</td>\n",
       "      <td>4</td>\n",
       "    </tr>\n",
       "  </tbody>\n",
       "</table>\n",
       "</div>"
      ],
      "text/plain": [
       "               Time State/UnionTerritory ConfirmedIndianNational  \\\n",
       "Date                                                               \n",
       "2021-04-23  8:00 AM        Uttar Pradesh                       -   \n",
       "2021-04-23  8:00 AM          West Bengal                       -   \n",
       "\n",
       "           ConfirmedForeignNational   Cured  Deaths  Confirmed  Year  Month  \\\n",
       "Date                                                                          \n",
       "2021-04-23                        -  706414   10541     976765  2021      4   \n",
       "2021-04-23                        -  621340   10766     700904  2021      4   \n",
       "\n",
       "            WeekDays  \n",
       "Date                  \n",
       "2021-04-23         4  \n",
       "2021-04-23         4  "
      ]
     },
     "execution_count": 4,
     "metadata": {},
     "output_type": "execute_result"
    }
   ],
   "source": [
    "df[\"Year\"]=df.index.year\n",
    "df[\"Month\"]=df.index.month\n",
    "df[\"WeekDays\"]=df.index.weekday\n",
    "df.tail(2)"
   ]
  },
  {
   "cell_type": "code",
   "execution_count": 5,
   "metadata": {},
   "outputs": [],
   "source": [
    "df=df.groupby([df.index.year,df.index.month]).last()"
   ]
  },
  {
   "cell_type": "code",
   "execution_count": 6,
   "metadata": {},
   "outputs": [
    {
     "data": {
      "text/html": [
       "<div>\n",
       "<style scoped>\n",
       "    .dataframe tbody tr th:only-of-type {\n",
       "        vertical-align: middle;\n",
       "    }\n",
       "\n",
       "    .dataframe tbody tr th {\n",
       "        vertical-align: top;\n",
       "    }\n",
       "\n",
       "    .dataframe thead th {\n",
       "        text-align: right;\n",
       "    }\n",
       "</style>\n",
       "<table border=\"1\" class=\"dataframe\">\n",
       "  <thead>\n",
       "    <tr style=\"text-align: right;\">\n",
       "      <th></th>\n",
       "      <th></th>\n",
       "      <th>Time</th>\n",
       "      <th>State/UnionTerritory</th>\n",
       "      <th>ConfirmedIndianNational</th>\n",
       "      <th>ConfirmedForeignNational</th>\n",
       "      <th>Cured</th>\n",
       "      <th>Deaths</th>\n",
       "      <th>Confirmed</th>\n",
       "      <th>Year</th>\n",
       "      <th>Month</th>\n",
       "      <th>WeekDays</th>\n",
       "    </tr>\n",
       "    <tr>\n",
       "      <th>Date</th>\n",
       "      <th>Date</th>\n",
       "      <th></th>\n",
       "      <th></th>\n",
       "      <th></th>\n",
       "      <th></th>\n",
       "      <th></th>\n",
       "      <th></th>\n",
       "      <th></th>\n",
       "      <th></th>\n",
       "      <th></th>\n",
       "      <th></th>\n",
       "    </tr>\n",
       "  </thead>\n",
       "  <tbody>\n",
       "    <tr>\n",
       "      <th rowspan=\"12\" valign=\"top\">2020</th>\n",
       "      <th>1</th>\n",
       "      <td>6:00 PM</td>\n",
       "      <td>Kerala</td>\n",
       "      <td>1</td>\n",
       "      <td>0</td>\n",
       "      <td>0</td>\n",
       "      <td>0</td>\n",
       "      <td>1</td>\n",
       "      <td>2020</td>\n",
       "      <td>1</td>\n",
       "      <td>4</td>\n",
       "    </tr>\n",
       "    <tr>\n",
       "      <th>2</th>\n",
       "      <td>6:00 PM</td>\n",
       "      <td>Kerala</td>\n",
       "      <td>3</td>\n",
       "      <td>0</td>\n",
       "      <td>0</td>\n",
       "      <td>0</td>\n",
       "      <td>3</td>\n",
       "      <td>2020</td>\n",
       "      <td>2</td>\n",
       "      <td>5</td>\n",
       "    </tr>\n",
       "    <tr>\n",
       "      <th>3</th>\n",
       "      <td>8:30 PM</td>\n",
       "      <td>Unassigned</td>\n",
       "      <td>-</td>\n",
       "      <td>-</td>\n",
       "      <td>0</td>\n",
       "      <td>0</td>\n",
       "      <td>38</td>\n",
       "      <td>2020</td>\n",
       "      <td>3</td>\n",
       "      <td>1</td>\n",
       "    </tr>\n",
       "    <tr>\n",
       "      <th>4</th>\n",
       "      <td>5:00 PM</td>\n",
       "      <td>West Bengal</td>\n",
       "      <td>-</td>\n",
       "      <td>-</td>\n",
       "      <td>124</td>\n",
       "      <td>22</td>\n",
       "      <td>758</td>\n",
       "      <td>2020</td>\n",
       "      <td>4</td>\n",
       "      <td>3</td>\n",
       "    </tr>\n",
       "    <tr>\n",
       "      <th>5</th>\n",
       "      <td>8:00 AM</td>\n",
       "      <td>Cases being reassigned to states</td>\n",
       "      <td>-</td>\n",
       "      <td>-</td>\n",
       "      <td>0</td>\n",
       "      <td>0</td>\n",
       "      <td>5491</td>\n",
       "      <td>2020</td>\n",
       "      <td>5</td>\n",
       "      <td>6</td>\n",
       "    </tr>\n",
       "    <tr>\n",
       "      <th>6</th>\n",
       "      <td>8:00 AM</td>\n",
       "      <td>Cases being reassigned to states</td>\n",
       "      <td>-</td>\n",
       "      <td>-</td>\n",
       "      <td>0</td>\n",
       "      <td>0</td>\n",
       "      <td>7004</td>\n",
       "      <td>2020</td>\n",
       "      <td>6</td>\n",
       "      <td>1</td>\n",
       "    </tr>\n",
       "    <tr>\n",
       "      <th>7</th>\n",
       "      <td>8:00 AM</td>\n",
       "      <td>West Bengal</td>\n",
       "      <td>-</td>\n",
       "      <td>-</td>\n",
       "      <td>46256</td>\n",
       "      <td>1536</td>\n",
       "      <td>67692</td>\n",
       "      <td>2020</td>\n",
       "      <td>7</td>\n",
       "      <td>4</td>\n",
       "    </tr>\n",
       "    <tr>\n",
       "      <th>8</th>\n",
       "      <td>8:00 AM</td>\n",
       "      <td>West Bengal</td>\n",
       "      <td>-</td>\n",
       "      <td>-</td>\n",
       "      <td>130952</td>\n",
       "      <td>3176</td>\n",
       "      <td>159785</td>\n",
       "      <td>2020</td>\n",
       "      <td>8</td>\n",
       "      <td>0</td>\n",
       "    </tr>\n",
       "    <tr>\n",
       "      <th>9</th>\n",
       "      <td>8:00 AM</td>\n",
       "      <td>West Bengal</td>\n",
       "      <td>-</td>\n",
       "      <td>-</td>\n",
       "      <td>222805</td>\n",
       "      <td>4899</td>\n",
       "      <td>253768</td>\n",
       "      <td>2020</td>\n",
       "      <td>9</td>\n",
       "      <td>2</td>\n",
       "    </tr>\n",
       "    <tr>\n",
       "      <th>10</th>\n",
       "      <td>8:00 AM</td>\n",
       "      <td>West Bengal</td>\n",
       "      <td>-</td>\n",
       "      <td>-</td>\n",
       "      <td>325888</td>\n",
       "      <td>6784</td>\n",
       "      <td>369671</td>\n",
       "      <td>2020</td>\n",
       "      <td>10</td>\n",
       "      <td>5</td>\n",
       "    </tr>\n",
       "    <tr>\n",
       "      <th>11</th>\n",
       "      <td>8:00 AM</td>\n",
       "      <td>West Bengal</td>\n",
       "      <td>-</td>\n",
       "      <td>-</td>\n",
       "      <td>448032</td>\n",
       "      <td>8376</td>\n",
       "      <td>480813</td>\n",
       "      <td>2020</td>\n",
       "      <td>11</td>\n",
       "      <td>0</td>\n",
       "    </tr>\n",
       "    <tr>\n",
       "      <th>12</th>\n",
       "      <td>8:00 AM</td>\n",
       "      <td>West Bengal</td>\n",
       "      <td>-</td>\n",
       "      <td>-</td>\n",
       "      <td>528829</td>\n",
       "      <td>9683</td>\n",
       "      <td>550893</td>\n",
       "      <td>2020</td>\n",
       "      <td>12</td>\n",
       "      <td>3</td>\n",
       "    </tr>\n",
       "    <tr>\n",
       "      <th rowspan=\"4\" valign=\"top\">2021</th>\n",
       "      <th>1</th>\n",
       "      <td>8:00 AM</td>\n",
       "      <td>West Bengal</td>\n",
       "      <td>-</td>\n",
       "      <td>-</td>\n",
       "      <td>553934</td>\n",
       "      <td>10164</td>\n",
       "      <td>569769</td>\n",
       "      <td>2021</td>\n",
       "      <td>1</td>\n",
       "      <td>6</td>\n",
       "    </tr>\n",
       "    <tr>\n",
       "      <th>2</th>\n",
       "      <td>8:00 AM</td>\n",
       "      <td>West Bengal</td>\n",
       "      <td>-</td>\n",
       "      <td>-</td>\n",
       "      <td>561327</td>\n",
       "      <td>10266</td>\n",
       "      <td>574926</td>\n",
       "      <td>2021</td>\n",
       "      <td>2</td>\n",
       "      <td>6</td>\n",
       "    </tr>\n",
       "    <tr>\n",
       "      <th>3</th>\n",
       "      <td>8:00 AM</td>\n",
       "      <td>West Bengal</td>\n",
       "      <td>-</td>\n",
       "      <td>-</td>\n",
       "      <td>570303</td>\n",
       "      <td>10327</td>\n",
       "      <td>585933</td>\n",
       "      <td>2021</td>\n",
       "      <td>3</td>\n",
       "      <td>2</td>\n",
       "    </tr>\n",
       "    <tr>\n",
       "      <th>4</th>\n",
       "      <td>8:00 AM</td>\n",
       "      <td>West Bengal</td>\n",
       "      <td>-</td>\n",
       "      <td>-</td>\n",
       "      <td>621340</td>\n",
       "      <td>10766</td>\n",
       "      <td>700904</td>\n",
       "      <td>2021</td>\n",
       "      <td>4</td>\n",
       "      <td>4</td>\n",
       "    </tr>\n",
       "  </tbody>\n",
       "</table>\n",
       "</div>"
      ],
      "text/plain": [
       "              Time              State/UnionTerritory ConfirmedIndianNational  \\\n",
       "Date Date                                                                      \n",
       "2020 1     6:00 PM                            Kerala                       1   \n",
       "     2     6:00 PM                            Kerala                       3   \n",
       "     3     8:30 PM                        Unassigned                       -   \n",
       "     4     5:00 PM                       West Bengal                       -   \n",
       "     5     8:00 AM  Cases being reassigned to states                       -   \n",
       "     6     8:00 AM  Cases being reassigned to states                       -   \n",
       "     7     8:00 AM                       West Bengal                       -   \n",
       "     8     8:00 AM                       West Bengal                       -   \n",
       "     9     8:00 AM                       West Bengal                       -   \n",
       "     10    8:00 AM                       West Bengal                       -   \n",
       "     11    8:00 AM                       West Bengal                       -   \n",
       "     12    8:00 AM                       West Bengal                       -   \n",
       "2021 1     8:00 AM                       West Bengal                       -   \n",
       "     2     8:00 AM                       West Bengal                       -   \n",
       "     3     8:00 AM                       West Bengal                       -   \n",
       "     4     8:00 AM                       West Bengal                       -   \n",
       "\n",
       "          ConfirmedForeignNational   Cured  Deaths  Confirmed  Year  Month  \\\n",
       "Date Date                                                                    \n",
       "2020 1                           0       0       0          1  2020      1   \n",
       "     2                           0       0       0          3  2020      2   \n",
       "     3                           -       0       0         38  2020      3   \n",
       "     4                           -     124      22        758  2020      4   \n",
       "     5                           -       0       0       5491  2020      5   \n",
       "     6                           -       0       0       7004  2020      6   \n",
       "     7                           -   46256    1536      67692  2020      7   \n",
       "     8                           -  130952    3176     159785  2020      8   \n",
       "     9                           -  222805    4899     253768  2020      9   \n",
       "     10                          -  325888    6784     369671  2020     10   \n",
       "     11                          -  448032    8376     480813  2020     11   \n",
       "     12                          -  528829    9683     550893  2020     12   \n",
       "2021 1                           -  553934   10164     569769  2021      1   \n",
       "     2                           -  561327   10266     574926  2021      2   \n",
       "     3                           -  570303   10327     585933  2021      3   \n",
       "     4                           -  621340   10766     700904  2021      4   \n",
       "\n",
       "           WeekDays  \n",
       "Date Date            \n",
       "2020 1            4  \n",
       "     2            5  \n",
       "     3            1  \n",
       "     4            3  \n",
       "     5            6  \n",
       "     6            1  \n",
       "     7            4  \n",
       "     8            0  \n",
       "     9            2  \n",
       "     10           5  \n",
       "     11           0  \n",
       "     12           3  \n",
       "2021 1            6  \n",
       "     2            6  \n",
       "     3            2  \n",
       "     4            4  "
      ]
     },
     "execution_count": 6,
     "metadata": {},
     "output_type": "execute_result"
    }
   ],
   "source": [
    "df"
   ]
  },
  {
   "cell_type": "code",
   "execution_count": 9,
   "metadata": {},
   "outputs": [
    {
     "data": {
      "text/html": [
       "<div>\n",
       "<style scoped>\n",
       "    .dataframe tbody tr th:only-of-type {\n",
       "        vertical-align: middle;\n",
       "    }\n",
       "\n",
       "    .dataframe tbody tr th {\n",
       "        vertical-align: top;\n",
       "    }\n",
       "\n",
       "    .dataframe thead th {\n",
       "        text-align: right;\n",
       "    }\n",
       "</style>\n",
       "<table border=\"1\" class=\"dataframe\">\n",
       "  <thead>\n",
       "    <tr style=\"text-align: right;\">\n",
       "      <th></th>\n",
       "      <th></th>\n",
       "      <th>Time</th>\n",
       "      <th>State/UnionTerritory</th>\n",
       "      <th>ConfirmedIndianNational</th>\n",
       "      <th>ConfirmedForeignNational</th>\n",
       "      <th>Cured</th>\n",
       "      <th>Deaths</th>\n",
       "      <th>Confirmed</th>\n",
       "      <th>Year</th>\n",
       "      <th>Month</th>\n",
       "      <th>WeekDays</th>\n",
       "    </tr>\n",
       "    <tr>\n",
       "      <th>Date</th>\n",
       "      <th>Date</th>\n",
       "      <th></th>\n",
       "      <th></th>\n",
       "      <th></th>\n",
       "      <th></th>\n",
       "      <th></th>\n",
       "      <th></th>\n",
       "      <th></th>\n",
       "      <th></th>\n",
       "      <th></th>\n",
       "      <th></th>\n",
       "    </tr>\n",
       "  </thead>\n",
       "  <tbody>\n",
       "    <tr>\n",
       "      <th rowspan=\"12\" valign=\"top\">2020</th>\n",
       "      <th>1</th>\n",
       "      <td>6:00 PM</td>\n",
       "      <td>Kerala</td>\n",
       "      <td>1</td>\n",
       "      <td>0</td>\n",
       "      <td>0</td>\n",
       "      <td>0</td>\n",
       "      <td>1</td>\n",
       "      <td>2020</td>\n",
       "      <td>1</td>\n",
       "      <td>4</td>\n",
       "    </tr>\n",
       "    <tr>\n",
       "      <th>2</th>\n",
       "      <td>6:00 PM</td>\n",
       "      <td>Kerala</td>\n",
       "      <td>3</td>\n",
       "      <td>0</td>\n",
       "      <td>0</td>\n",
       "      <td>0</td>\n",
       "      <td>3</td>\n",
       "      <td>2020</td>\n",
       "      <td>2</td>\n",
       "      <td>5</td>\n",
       "    </tr>\n",
       "    <tr>\n",
       "      <th>3</th>\n",
       "      <td>8:30 PM</td>\n",
       "      <td>Unassigned</td>\n",
       "      <td>-</td>\n",
       "      <td>-</td>\n",
       "      <td>0</td>\n",
       "      <td>0</td>\n",
       "      <td>38</td>\n",
       "      <td>2020</td>\n",
       "      <td>3</td>\n",
       "      <td>1</td>\n",
       "    </tr>\n",
       "    <tr>\n",
       "      <th>4</th>\n",
       "      <td>5:00 PM</td>\n",
       "      <td>West Bengal</td>\n",
       "      <td>-</td>\n",
       "      <td>-</td>\n",
       "      <td>124</td>\n",
       "      <td>22</td>\n",
       "      <td>758</td>\n",
       "      <td>2020</td>\n",
       "      <td>4</td>\n",
       "      <td>3</td>\n",
       "    </tr>\n",
       "    <tr>\n",
       "      <th>5</th>\n",
       "      <td>8:00 AM</td>\n",
       "      <td>Cases being reassigned to states</td>\n",
       "      <td>-</td>\n",
       "      <td>-</td>\n",
       "      <td>0</td>\n",
       "      <td>0</td>\n",
       "      <td>5491</td>\n",
       "      <td>2020</td>\n",
       "      <td>5</td>\n",
       "      <td>6</td>\n",
       "    </tr>\n",
       "    <tr>\n",
       "      <th>6</th>\n",
       "      <td>8:00 AM</td>\n",
       "      <td>Cases being reassigned to states</td>\n",
       "      <td>-</td>\n",
       "      <td>-</td>\n",
       "      <td>0</td>\n",
       "      <td>0</td>\n",
       "      <td>7004</td>\n",
       "      <td>2020</td>\n",
       "      <td>6</td>\n",
       "      <td>1</td>\n",
       "    </tr>\n",
       "    <tr>\n",
       "      <th>7</th>\n",
       "      <td>8:00 AM</td>\n",
       "      <td>West Bengal</td>\n",
       "      <td>-</td>\n",
       "      <td>-</td>\n",
       "      <td>46256</td>\n",
       "      <td>1536</td>\n",
       "      <td>67692</td>\n",
       "      <td>2020</td>\n",
       "      <td>7</td>\n",
       "      <td>4</td>\n",
       "    </tr>\n",
       "    <tr>\n",
       "      <th>8</th>\n",
       "      <td>8:00 AM</td>\n",
       "      <td>West Bengal</td>\n",
       "      <td>-</td>\n",
       "      <td>-</td>\n",
       "      <td>130952</td>\n",
       "      <td>3176</td>\n",
       "      <td>159785</td>\n",
       "      <td>2020</td>\n",
       "      <td>8</td>\n",
       "      <td>0</td>\n",
       "    </tr>\n",
       "    <tr>\n",
       "      <th>9</th>\n",
       "      <td>8:00 AM</td>\n",
       "      <td>West Bengal</td>\n",
       "      <td>-</td>\n",
       "      <td>-</td>\n",
       "      <td>222805</td>\n",
       "      <td>4899</td>\n",
       "      <td>253768</td>\n",
       "      <td>2020</td>\n",
       "      <td>9</td>\n",
       "      <td>2</td>\n",
       "    </tr>\n",
       "    <tr>\n",
       "      <th>10</th>\n",
       "      <td>8:00 AM</td>\n",
       "      <td>West Bengal</td>\n",
       "      <td>-</td>\n",
       "      <td>-</td>\n",
       "      <td>325888</td>\n",
       "      <td>6784</td>\n",
       "      <td>369671</td>\n",
       "      <td>2020</td>\n",
       "      <td>10</td>\n",
       "      <td>5</td>\n",
       "    </tr>\n",
       "    <tr>\n",
       "      <th>11</th>\n",
       "      <td>8:00 AM</td>\n",
       "      <td>West Bengal</td>\n",
       "      <td>-</td>\n",
       "      <td>-</td>\n",
       "      <td>448032</td>\n",
       "      <td>8376</td>\n",
       "      <td>480813</td>\n",
       "      <td>2020</td>\n",
       "      <td>11</td>\n",
       "      <td>0</td>\n",
       "    </tr>\n",
       "    <tr>\n",
       "      <th>12</th>\n",
       "      <td>8:00 AM</td>\n",
       "      <td>West Bengal</td>\n",
       "      <td>-</td>\n",
       "      <td>-</td>\n",
       "      <td>528829</td>\n",
       "      <td>9683</td>\n",
       "      <td>550893</td>\n",
       "      <td>2020</td>\n",
       "      <td>12</td>\n",
       "      <td>3</td>\n",
       "    </tr>\n",
       "    <tr>\n",
       "      <th rowspan=\"4\" valign=\"top\">2021</th>\n",
       "      <th>1</th>\n",
       "      <td>8:00 AM</td>\n",
       "      <td>West Bengal</td>\n",
       "      <td>-</td>\n",
       "      <td>-</td>\n",
       "      <td>553934</td>\n",
       "      <td>10164</td>\n",
       "      <td>569769</td>\n",
       "      <td>2021</td>\n",
       "      <td>1</td>\n",
       "      <td>6</td>\n",
       "    </tr>\n",
       "    <tr>\n",
       "      <th>2</th>\n",
       "      <td>8:00 AM</td>\n",
       "      <td>West Bengal</td>\n",
       "      <td>-</td>\n",
       "      <td>-</td>\n",
       "      <td>561327</td>\n",
       "      <td>10266</td>\n",
       "      <td>574926</td>\n",
       "      <td>2021</td>\n",
       "      <td>2</td>\n",
       "      <td>6</td>\n",
       "    </tr>\n",
       "    <tr>\n",
       "      <th>3</th>\n",
       "      <td>8:00 AM</td>\n",
       "      <td>West Bengal</td>\n",
       "      <td>-</td>\n",
       "      <td>-</td>\n",
       "      <td>570303</td>\n",
       "      <td>10327</td>\n",
       "      <td>585933</td>\n",
       "      <td>2021</td>\n",
       "      <td>3</td>\n",
       "      <td>2</td>\n",
       "    </tr>\n",
       "    <tr>\n",
       "      <th>4</th>\n",
       "      <td>8:00 AM</td>\n",
       "      <td>West Bengal</td>\n",
       "      <td>-</td>\n",
       "      <td>-</td>\n",
       "      <td>621340</td>\n",
       "      <td>10766</td>\n",
       "      <td>700904</td>\n",
       "      <td>2021</td>\n",
       "      <td>4</td>\n",
       "      <td>4</td>\n",
       "    </tr>\n",
       "  </tbody>\n",
       "</table>\n",
       "</div>"
      ],
      "text/plain": [
       "              Time              State/UnionTerritory ConfirmedIndianNational  \\\n",
       "Date Date                                                                      \n",
       "2020 1     6:00 PM                            Kerala                       1   \n",
       "     2     6:00 PM                            Kerala                       3   \n",
       "     3     8:30 PM                        Unassigned                       -   \n",
       "     4     5:00 PM                       West Bengal                       -   \n",
       "     5     8:00 AM  Cases being reassigned to states                       -   \n",
       "     6     8:00 AM  Cases being reassigned to states                       -   \n",
       "     7     8:00 AM                       West Bengal                       -   \n",
       "     8     8:00 AM                       West Bengal                       -   \n",
       "     9     8:00 AM                       West Bengal                       -   \n",
       "     10    8:00 AM                       West Bengal                       -   \n",
       "     11    8:00 AM                       West Bengal                       -   \n",
       "     12    8:00 AM                       West Bengal                       -   \n",
       "2021 1     8:00 AM                       West Bengal                       -   \n",
       "     2     8:00 AM                       West Bengal                       -   \n",
       "     3     8:00 AM                       West Bengal                       -   \n",
       "     4     8:00 AM                       West Bengal                       -   \n",
       "\n",
       "          ConfirmedForeignNational   Cured  Deaths  Confirmed  Year  Month  \\\n",
       "Date Date                                                                    \n",
       "2020 1                           0       0       0          1  2020      1   \n",
       "     2                           0       0       0          3  2020      2   \n",
       "     3                           -       0       0         38  2020      3   \n",
       "     4                           -     124      22        758  2020      4   \n",
       "     5                           -       0       0       5491  2020      5   \n",
       "     6                           -       0       0       7004  2020      6   \n",
       "     7                           -   46256    1536      67692  2020      7   \n",
       "     8                           -  130952    3176     159785  2020      8   \n",
       "     9                           -  222805    4899     253768  2020      9   \n",
       "     10                          -  325888    6784     369671  2020     10   \n",
       "     11                          -  448032    8376     480813  2020     11   \n",
       "     12                          -  528829    9683     550893  2020     12   \n",
       "2021 1                           -  553934   10164     569769  2021      1   \n",
       "     2                           -  561327   10266     574926  2021      2   \n",
       "     3                           -  570303   10327     585933  2021      3   \n",
       "     4                           -  621340   10766     700904  2021      4   \n",
       "\n",
       "           WeekDays  \n",
       "Date Date            \n",
       "2020 1            4  \n",
       "     2            5  \n",
       "     3            1  \n",
       "     4            3  \n",
       "     5            6  \n",
       "     6            1  \n",
       "     7            4  \n",
       "     8            0  \n",
       "     9            2  \n",
       "     10           5  \n",
       "     11           0  \n",
       "     12           3  \n",
       "2021 1            6  \n",
       "     2            6  \n",
       "     3            2  \n",
       "     4            4  "
      ]
     },
     "execution_count": 9,
     "metadata": {},
     "output_type": "execute_result"
    }
   ],
   "source": [
    "df=df.rename(index={\"Date\":\"Year\",\n",
    "                   \"Date\":\"Month\"})\n",
    "df"
   ]
  },
  {
   "cell_type": "code",
   "execution_count": null,
   "metadata": {},
   "outputs": [],
   "source": [
    "df.info()"
   ]
  },
  {
   "cell_type": "code",
   "execution_count": null,
   "metadata": {},
   "outputs": [],
   "source": [
    "df=df.drop([\"Date\"],axis=1)"
   ]
  },
  {
   "cell_type": "code",
   "execution_count": null,
   "metadata": {},
   "outputs": [],
   "source": [
    "df.tail()"
   ]
  },
  {
   "cell_type": "code",
   "execution_count": null,
   "metadata": {},
   "outputs": [],
   "source": [
    "df1=df.groupby([\"Month\",\"Year\"]).last()\n",
    "df1"
   ]
  },
  {
   "cell_type": "code",
   "execution_count": null,
   "metadata": {},
   "outputs": [],
   "source": [
    "df1=df1.drop([\"State/UnionTerritory\"],axis=1)"
   ]
  },
  {
   "cell_type": "code",
   "execution_count": null,
   "metadata": {
    "scrolled": true
   },
   "outputs": [],
   "source": [
    "df1.head()"
   ]
  },
  {
   "cell_type": "code",
   "execution_count": null,
   "metadata": {},
   "outputs": [],
   "source": [
    "df2=df1[[\"Cured\",\"Deaths\",\"Confirmed\"]]\n",
    "df2=df2.diff()\n",
    "df2"
   ]
  },
  {
   "cell_type": "code",
   "execution_count": null,
   "metadata": {},
   "outputs": [],
   "source": [
    "df2=df2.fillna({\"Cured\":0,\"Deaths\":0,\"Confirmed\":1})"
   ]
  },
  {
   "cell_type": "code",
   "execution_count": null,
   "metadata": {},
   "outputs": [],
   "source": [
    "df1=pd.concat([df1,df2.rename(columns={\"Cured\":\"Monthwise_cured\",\n",
    "                              \"Deaths\":\"Monthwise_deaths\",\n",
    "                              \"Confirmed\":\"Monthwise_confirmed\"})],axis=1)\n",
    "df1"
   ]
  },
  {
   "cell_type": "code",
   "execution_count": null,
   "metadata": {},
   "outputs": [],
   "source": [
    "df1.reset_index()"
   ]
  },
  {
   "cell_type": "code",
   "execution_count": null,
   "metadata": {},
   "outputs": [],
   "source": []
  },
  {
   "cell_type": "markdown",
   "metadata": {},
   "source": [
    "#### From the above information we come to know that \n",
    "* We have 9 columns and 14150 rows.\n",
    "* We also see that in all the 9 columns there are 14150 entries. Which means there are no missing values."
   ]
  },
  {
   "cell_type": "markdown",
   "metadata": {},
   "source": [
    "### Data Manipulation\n",
    "\n",
    "We are going to only take the attributes that are required for our futher/future analysis\n",
    "And we come to know that \"Date\", \"State/UnionTerritory\", \"Cured\", \"Deaths\", \"Confirmed\" are the variables that we want to look in."
   ]
  },
  {
   "cell_type": "code",
   "execution_count": null,
   "metadata": {},
   "outputs": [],
   "source": [
    "df2=df[[\"Date\", \"State/UnionTerritory\", \"Cured\", \"Deaths\", \"Confirmed\"]]"
   ]
  },
  {
   "cell_type": "code",
   "execution_count": null,
   "metadata": {},
   "outputs": [],
   "source": [
    "df2.head(2)"
   ]
  },
  {
   "cell_type": "code",
   "execution_count": null,
   "metadata": {},
   "outputs": [],
   "source": [
    "df2.tail(2)"
   ]
  },
  {
   "cell_type": "markdown",
   "metadata": {},
   "source": [
    "We can subset from the above dataframe df2 for looking in for each State/UnionTerritory. \n",
    "And we are interested in looking the cases for Tamil Nadu."
   ]
  },
  {
   "cell_type": "code",
   "execution_count": null,
   "metadata": {},
   "outputs": [],
   "source": [
    "tamilnadu=df2[df2[\"State/UnionTerritory\"]==\"Tamil Nadu\"]"
   ]
  },
  {
   "cell_type": "code",
   "execution_count": null,
   "metadata": {},
   "outputs": [],
   "source": [
    "tamilnadu.head(2)"
   ]
  },
  {
   "cell_type": "code",
   "execution_count": null,
   "metadata": {},
   "outputs": [],
   "source": [
    "tamilnadu.dtypes"
   ]
  },
  {
   "cell_type": "code",
   "execution_count": null,
   "metadata": {},
   "outputs": [],
   "source": [
    "tamilnadu.tail(2)"
   ]
  },
  {
   "cell_type": "markdown",
   "metadata": {},
   "source": [
    "We see that the above data shows the cummulative numbers. We are interested in looking for daily wise numbers.\n",
    "So we use diff() function"
   ]
  },
  {
   "cell_type": "code",
   "execution_count": null,
   "metadata": {},
   "outputs": [],
   "source": [
    "daily_wise_cases=tamilnadu[[\"Cured\",\"Deaths\",\"Confirmed\"]]\n",
    "daywise=daily_wise_cases.diff()"
   ]
  },
  {
   "cell_type": "code",
   "execution_count": null,
   "metadata": {},
   "outputs": [],
   "source": [
    "daywise.rename(columns={\"Cured\":\"Daywise Cured\",\"Deaths\":\"Daywise Deaths\",\"Confirmed\":\"Daywise Confirmed\"})"
   ]
  },
  {
   "cell_type": "markdown",
   "metadata": {},
   "source": [
    "We have renamed the column names and going to concatinate the dataframe."
   ]
  },
  {
   "cell_type": "code",
   "execution_count": null,
   "metadata": {},
   "outputs": [],
   "source": [
    "daywise_tn=pd.concat([tamilnadu,daywise.rename(columns=\n",
    "                                               {\"Cured\":\"Daywise Cured\",\"Deaths\":\"Daywise Deaths\",\n",
    "                                                \"Confirmed\":\"Daywise Confirmed\"\n",
    "                                               })],axis=1)"
   ]
  },
  {
   "cell_type": "code",
   "execution_count": null,
   "metadata": {},
   "outputs": [],
   "source": [
    "daywise_tn.tail(2)"
   ]
  },
  {
   "cell_type": "markdown",
   "metadata": {},
   "source": [
    "Now we should not have any duplicate values.\n",
    "We are going to check the duplicates and remove them."
   ]
  },
  {
   "cell_type": "code",
   "execution_count": null,
   "metadata": {},
   "outputs": [],
   "source": [
    "print(\"There are {} duplicated values.\".format(daywise_tn.duplicated().sum()))"
   ]
  },
  {
   "cell_type": "markdown",
   "metadata": {},
   "source": [
    "We have got NO duplicates. So we are going to know check the null values as we converted the cummulative rate to daily rate"
   ]
  },
  {
   "cell_type": "code",
   "execution_count": null,
   "metadata": {},
   "outputs": [],
   "source": [
    "daywise_tn.isnull().sum()"
   ]
  },
  {
   "cell_type": "markdown",
   "metadata": {},
   "source": [
    "As we expected there is a null value in 1st row of the dataframe daywise_tn.\n",
    "We are going remove the 1st row of the dataframe."
   ]
  },
  {
   "cell_type": "code",
   "execution_count": null,
   "metadata": {},
   "outputs": [],
   "source": [
    "tn_daywise=daywise_tn.dropna()\n",
    "tn_daywise.head(2)"
   ]
  },
  {
   "cell_type": "code",
   "execution_count": null,
   "metadata": {},
   "outputs": [],
   "source": [
    "tn_daywise.isnull().sum()"
   ]
  },
  {
   "cell_type": "markdown",
   "metadata": {},
   "source": [
    "To look into the range of dates and subsetting the date."
   ]
  },
  {
   "cell_type": "markdown",
   "metadata": {},
   "source": [
    "### TAMIL NADU during the month of JANUARY in 2021"
   ]
  },
  {
   "cell_type": "markdown",
   "metadata": {},
   "source": [
    "Getting only the data of COVID19 cases of TN in January 2021"
   ]
  },
  {
   "cell_type": "code",
   "execution_count": null,
   "metadata": {},
   "outputs": [],
   "source": [
    "tamilnadu_in_jan=tn_daywise.loc[(tn_daywise[\"Date\"] >= \"2021-01-01\") & (tn_daywise[\"Date\"] <= \"2021-01-31\")]"
   ]
  },
  {
   "cell_type": "code",
   "execution_count": null,
   "metadata": {},
   "outputs": [],
   "source": [
    "tamilnadu_in_jan.head(2)"
   ]
  },
  {
   "cell_type": "code",
   "execution_count": null,
   "metadata": {},
   "outputs": [],
   "source": [
    "tamilnadu_in_jan.shape"
   ]
  },
  {
   "cell_type": "markdown",
   "metadata": {},
   "source": [
    "We are only interested in looking at the daywise count of Covid19 cases.\n",
    "So we drop the cummulative numbers "
   ]
  },
  {
   "cell_type": "code",
   "execution_count": null,
   "metadata": {},
   "outputs": [],
   "source": [
    "tamilnadu_in_jan_daywise=tamilnadu_in_jan.drop([\"Cured\",\"Deaths\",\"Confirmed\"],axis=1)\n",
    "tamilnadu_in_jan_daywise.head(2)"
   ]
  },
  {
   "cell_type": "markdown",
   "metadata": {},
   "source": [
    "Finally we have achieved the daywise data of Covid 19 cases of Tamil Nadu.\n",
    "\n",
    "### Similarly, it is possible to do this for any State/UnionTerritory and for diffferent days/months/years."
   ]
  },
  {
   "cell_type": "markdown",
   "metadata": {},
   "source": [
    "Since we know the data is for the state Tamil Nadu we are dropping the variable State/UnionTerritory."
   ]
  },
  {
   "cell_type": "code",
   "execution_count": null,
   "metadata": {},
   "outputs": [],
   "source": [
    "tamilnadu_in_jan_daywise=tamilnadu_in_jan_daywise.drop([\"State/UnionTerritory\"],axis=1)"
   ]
  },
  {
   "cell_type": "code",
   "execution_count": null,
   "metadata": {},
   "outputs": [],
   "source": [
    "tamilnadu_in_jan_daywise.head(2)"
   ]
  },
  {
   "cell_type": "markdown",
   "metadata": {},
   "source": [
    "Now this is the data we want to deal with Visualization and Statistical inferences."
   ]
  },
  {
   "cell_type": "code",
   "execution_count": null,
   "metadata": {},
   "outputs": [],
   "source": [
    "tamilnadu_in_jan_daywise.columns"
   ]
  },
  {
   "cell_type": "code",
   "execution_count": null,
   "metadata": {},
   "outputs": [],
   "source": [
    "tamilnadu_in_jan_daywise.describe()"
   ]
  },
  {
   "cell_type": "code",
   "execution_count": null,
   "metadata": {},
   "outputs": [],
   "source": [
    "tamilnadu_in_jan_daywise.corr(method='pearson')"
   ]
  },
  {
   "cell_type": "code",
   "execution_count": null,
   "metadata": {},
   "outputs": [],
   "source": [
    "sns.regplot(x=\"Daywise Confirmed\",y=\"Daywise Cured\",data=tamilnadu_in_jan_daywise)"
   ]
  },
  {
   "cell_type": "code",
   "execution_count": null,
   "metadata": {},
   "outputs": [],
   "source": [
    "sns.lmplot(x=\"Daywise Confirmed\",y=\"Daywise Cured\",data=tamilnadu_in_jan_daywise)"
   ]
  },
  {
   "cell_type": "code",
   "execution_count": null,
   "metadata": {},
   "outputs": [],
   "source": [
    "sns.regplot(x=\"Daywise Confirmed\",y=\"Daywise Deaths\",data=tamilnadu_in_jan_daywise)"
   ]
  },
  {
   "cell_type": "markdown",
   "metadata": {},
   "source": [
    "From the above plots we find that there is a linear relationship. \n",
    "When the Confirmed cases increases the Cured cases also increases.\n",
    "Which tells that \"Daywise Cured\" is the dependent variable."
   ]
  },
  {
   "cell_type": "markdown",
   "metadata": {},
   "source": [
    "#### Now, we try to do this for Kerala and then compare between the two states."
   ]
  },
  {
   "cell_type": "code",
   "execution_count": null,
   "metadata": {},
   "outputs": [],
   "source": [
    "kerala=df2[df2[\"State/UnionTerritory\"]==\"Kerala\"]"
   ]
  },
  {
   "cell_type": "code",
   "execution_count": null,
   "metadata": {},
   "outputs": [],
   "source": [
    "daywise=kerala[[\"Cured\",\"Deaths\",\"Confirmed\"]].diff()"
   ]
  },
  {
   "cell_type": "code",
   "execution_count": null,
   "metadata": {},
   "outputs": [],
   "source": [
    "daywise_kl=pd.concat([kerala,daywise.rename(columns=\n",
    "                                               {\"Cured\":\"Daywise Cured\",\"Deaths\":\"Daywise Deaths\",\n",
    "                                                \"Confirmed\":\"Daywise Confirmed\"}\n",
    "                                              )],axis=1)"
   ]
  },
  {
   "cell_type": "code",
   "execution_count": null,
   "metadata": {},
   "outputs": [],
   "source": [
    "print(\"There are {} duplicated values.\".format(daywise_kl.duplicated().sum()))"
   ]
  },
  {
   "cell_type": "code",
   "execution_count": null,
   "metadata": {},
   "outputs": [],
   "source": [
    "daywise_kl.isnull().sum()"
   ]
  },
  {
   "cell_type": "code",
   "execution_count": null,
   "metadata": {},
   "outputs": [],
   "source": [
    "kerala_in_jan=daywise_kl.loc[(daywise_kl[\"Date\"] >= \"2021-01-01\") & (daywise_kl[\"Date\"] <= \"2021-01-31\")]"
   ]
  },
  {
   "cell_type": "code",
   "execution_count": null,
   "metadata": {},
   "outputs": [],
   "source": [
    "kerala_in_jan_daywise=kerala_in_jan.drop([\"Cured\",\"Deaths\",\"Confirmed\"],axis=1)"
   ]
  },
  {
   "cell_type": "code",
   "execution_count": null,
   "metadata": {},
   "outputs": [],
   "source": [
    "kerala_in_jan_daywise=kerala_in_jan_daywise.drop([\"State/UnionTerritory\"],axis=1)"
   ]
  },
  {
   "cell_type": "code",
   "execution_count": null,
   "metadata": {},
   "outputs": [],
   "source": [
    "kerala_in_jan_daywise.describe()"
   ]
  },
  {
   "cell_type": "code",
   "execution_count": null,
   "metadata": {},
   "outputs": [],
   "source": [
    "kerala_in_jan_daywise.info()"
   ]
  },
  {
   "cell_type": "code",
   "execution_count": null,
   "metadata": {},
   "outputs": [],
   "source": [
    "sns.regplot(x=\"Daywise Confirmed\",y=\"Daywise Cured\",data=kerala_in_jan_daywise)"
   ]
  },
  {
   "cell_type": "code",
   "execution_count": null,
   "metadata": {},
   "outputs": [],
   "source": [
    "sns.lmplot(x=\"Daywise Confirmed\",y=\"Daywise Cured\",data=kerala_in_jan_daywise)"
   ]
  },
  {
   "cell_type": "code",
   "execution_count": null,
   "metadata": {},
   "outputs": [],
   "source": [
    "sns.regplot(x=\"Daywise Confirmed\",y=\"Daywise Deaths\",data=kerala_in_jan_daywise)"
   ]
  },
  {
   "cell_type": "code",
   "execution_count": null,
   "metadata": {},
   "outputs": [],
   "source": [
    "kerala_in_jan_daywise.corr(method='pearson')"
   ]
  },
  {
   "cell_type": "markdown",
   "metadata": {},
   "source": [
    "From the above plots we find that there is no relationship between confirmed and cured.And it suggests that the number of persons confirmed positive has only half chance of getting cured."
   ]
  },
  {
   "cell_type": "markdown",
   "metadata": {},
   "source": [
    "### Insights from January 2021"
   ]
  },
  {
   "cell_type": "markdown",
   "metadata": {},
   "source": [
    "#### In Tamil Nadu,\n",
    "* When a person gets confirmed for Covid19, he/she had the high probability of more than 94% of getting cured from Covid19.\n",
    "* Here we are also suggested that, since we have 0.94 as a correlation between Confirmed and Cured we dont need to worry much about the deaths.\n",
    "\n",
    "#### In Kerala,\n",
    "* When a person gets confirmed for Covid19, he/she had a low probability of getting cured. Which is worrying!!! \n",
    "* The correlation between Confirmed & Cured cases is 0.50 which tells there is half a chance that the person gets dead.\n",
    "\n",
    "\n",
    "So the state has to get better in treating people. Lets look into the Month of FEBRUARY 2021 for KERALA to check whether there is a raise in the correlation."
   ]
  },
  {
   "cell_type": "code",
   "execution_count": null,
   "metadata": {},
   "outputs": [],
   "source": [
    "kerala_in_feb=daywise_kl.loc[(daywise_kl[\"Date\"] >= \"2021-02-01\") & (daywise_kl[\"Date\"] <= \"2021-02-28\")]"
   ]
  },
  {
   "cell_type": "code",
   "execution_count": null,
   "metadata": {},
   "outputs": [],
   "source": [
    "kerala_in_feb_daywise=kerala_in_feb.drop([\"Cured\",\"Deaths\",\"Confirmed\"],axis=1)"
   ]
  },
  {
   "cell_type": "code",
   "execution_count": null,
   "metadata": {},
   "outputs": [],
   "source": [
    "kerala_in_feb_daywise=kerala_in_feb_daywise.drop([\"State/UnionTerritory\"],axis=1)"
   ]
  },
  {
   "cell_type": "code",
   "execution_count": null,
   "metadata": {},
   "outputs": [],
   "source": [
    "kerala_in_feb_daywise.describe()"
   ]
  },
  {
   "cell_type": "code",
   "execution_count": null,
   "metadata": {},
   "outputs": [],
   "source": [
    "kerala_in_feb_daywise.info()"
   ]
  },
  {
   "cell_type": "code",
   "execution_count": null,
   "metadata": {},
   "outputs": [],
   "source": [
    "sns.regplot(x=\"Daywise Confirmed\",y=\"Daywise Cured\",data=kerala_in_feb_daywise)"
   ]
  },
  {
   "cell_type": "code",
   "execution_count": null,
   "metadata": {},
   "outputs": [],
   "source": [
    "sns.lmplot(x=\"Daywise Confirmed\",y=\"Daywise Cured\",data=kerala_in_feb_daywise)"
   ]
  },
  {
   "cell_type": "code",
   "execution_count": null,
   "metadata": {},
   "outputs": [],
   "source": [
    "sns.regplot(x=\"Daywise Confirmed\",y=\"Daywise Deaths\",data=kerala_in_feb_daywise)"
   ]
  },
  {
   "cell_type": "code",
   "execution_count": null,
   "metadata": {},
   "outputs": [],
   "source": [
    "kerala_in_feb_daywise.corr(method='pearson')"
   ]
  },
  {
   "cell_type": "code",
   "execution_count": null,
   "metadata": {},
   "outputs": [],
   "source": [
    "np.std(kerala_in_feb_daywise[\"Daywise Cured\"])"
   ]
  },
  {
   "cell_type": "code",
   "execution_count": null,
   "metadata": {},
   "outputs": [],
   "source": [
    "np.std(kerala_in_jan_daywise[\"Daywise Cured\"])"
   ]
  },
  {
   "cell_type": "code",
   "execution_count": null,
   "metadata": {},
   "outputs": [],
   "source": [
    "sns.scatterplot(x=\"Date\",y=\"Daywise Confirmed\",data=tamilnadu_in_jan_daywise)"
   ]
  },
  {
   "cell_type": "code",
   "execution_count": null,
   "metadata": {},
   "outputs": [],
   "source": [
    "sns.lineplot(x=\"Date\",ydata:image/png;base64,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\"Daywise Confirmed\",data=tamilnadu_in_jan_daywise)"
   ]
  },
  {
   "cell_type": "code",
   "execution_count": null,
   "metadata": {},
   "outputs": [],
   "source": [
    "sns.lineplot(x=\"Daywise Confirmed\",y=\"Daywise Cured\",data=tamilnadu_in_jan_daywise)"
   ]
  },
  {
   "cell_type": "code",
   "execution_count": null,
   "metadata": {},
   "outputs": [],
   "source": [
    "sns.lineplot(x=\"Daywise Confirmed\",y=\"Daywise Cured\",data=kerala_in_jan_daywise)"
   ]
  },
  {
   "cell_type": "code",
   "execution_count": null,
   "metadata": {},
   "outputs": [],
   "source": [
    "sns.barplot(x=\"Daywise Confirmed\",y=\"Daywise Cured\",data=tamilnadu_in_jan_daywise)"
   ]
  },
  {
   "cell_type": "code",
   "execution_count": null,
   "metadata": {},
   "outputs": [],
   "source": [
    "january_tn_kl=pd.merge(tamilnadu_in_jan_daywise,kerala_in_jan_daywise,on=\"Date\")"
   ]
  },
  {
   "cell_type": "code",
   "execution_count": null,
   "metadata": {},
   "outputs": [],
   "source": [
    "january_tn_kl.head(2)"
   ]
  },
  {
   "cell_type": "code",
   "execution_count": null,
   "metadata": {},
   "outputs": [],
   "source": [
    "sns.lineplot(x=\"Daywise Confirmed_y\",y=\"Daywise Confirmed_x\",data=january_tn_kl)"
   ]
  },
  {
   "cell_type": "code",
   "execution_count": null,
   "metadata": {},
   "outputs": [],
   "source": [
    "sns.distplot(january_tn_kl[\"Daywise Deaths_x\"])"
   ]
  },
  {
   "cell_type": "code",
   "execution_count": null,
   "metadata": {},
   "outputs": [],
   "source": [
    "sns.kdeplot(january_tn_kl[\"Daywise Deaths_x\"],shade= True)\n",
    "sns.kdeplot(january_tn_kl[\"Daywise Deaths_y\"],shade= True)\n",
    "plt.title('Deaths in January(Tn vs Kl)')\n",
    "plt.show()"
   ]
  },
  {
   "cell_type": "code",
   "execution_count": null,
   "metadata": {},
   "outputs": [],
   "source": [
    "plt.plot_date(Daywise Deaths,daa=death_jan_tn)\n",
    "plt.title(\"Deaths in TN and KL during January\")\n",
    "plt.xlabel(\"Date\")\n",
    "plt.ylabel(\"Cases\")\n",
    "plt.show()"
   ]
  },
  {
   "cell_type": "code",
   "execution_count": null,
   "metadata": {},
   "outputs": [],
   "source": [
    "death_jan_tn=tamilnadu_in_jan_daywise[[\"Daywise Deaths\",\"Date\"]]"
   ]
  },
  {
   "cell_type": "code",
   "execution_count": null,
   "metadata": {},
   "outputs": [],
   "source": []
  }
 ],
 "metadata": {
  "kernelspec": {
   "display_name": "Python 3",
   "language": "python",
   "name": "python3"
  },
  "language_info": {
   "codemirror_mode": {
    "name": "ipython",
    "version": 3
   },
   "file_extension": ".py",
   "mimetype": "text/x-python",
   "name": "python",
   "nbconvert_exporter": "python",
   "pygments_lexer": "ipython3",
   "version": "3.8.8"
  },
  "varInspector": {
   "cols": {
    "lenName": 16,
    "lenType": 16,
    "lenVar": 40
   },
   "kernels_config": {
    "python": {
     "delete_cmd_postfix": "",
     "delete_cmd_prefix": "del ",
     "library": "var_list.py",
     "varRefreshCmd": "print(var_dic_list())"
    },
    "r": {
     "delete_cmd_postfix": ") ",
     "delete_cmd_prefix": "rm(",
     "library": "var_list.r",
     "varRefreshCmd": "cat(var_dic_list()) "
    }
   },
   "types_to_exclude": [
    "module",
    "function",
    "builtin_function_or_method",
    "instance",
    "_Feature"
   ],
   "window_display": false
  }
 },
 "nbformat": 4,
 "nbformat_minor": 4
}
